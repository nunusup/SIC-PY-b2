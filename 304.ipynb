{
 "cells": [
  {
   "cell_type": "code",
   "execution_count": 1,
   "id": "d4fc0bcd-fd89-4bae-88fb-9fc3c9256dd1",
   "metadata": {},
   "outputs": [],
   "source": [
    "import scipy.stats as st\n",
    "import numpy as np"
   ]
  },
  {
   "cell_type": "code",
   "execution_count": 3,
   "id": "5518f2c4-9b70-4081-88cb-6ccc4e10519d",
   "metadata": {},
   "outputs": [],
   "source": [
    " # Standard Normal corresponds to mu = 0 and sigma = 1.\n",
    "mu = 0\n",
    "sigma = 1"
   ]
  },
  {
   "cell_type": "code",
   "execution_count": 5,
   "id": "a58794a1-e25b-436c-b638-63e087490426",
   "metadata": {},
   "outputs": [
    {
     "data": {
      "text/plain": [
       "1.6448536269514722"
      ]
     },
     "execution_count": 5,
     "metadata": {},
     "output_type": "execute_result"
    }
   ],
   "source": [
    " # Quantile at alpha = 0.95\n",
    "# This is useful when calculating 90% confidence interval.\n",
    "alpha = 0.95\n",
    "st.norm.ppf(alpha, loc = mu , scale = sigma)\n"
   ]
  },
  {
   "cell_type": "code",
   "execution_count": 7,
   "id": "34db00fa-27f5-41ab-9922-b903b33e2c67",
   "metadata": {},
   "outputs": [
    {
     "data": {
      "text/plain": [
       "1.959963984540054"
      ]
     },
     "execution_count": 7,
     "metadata": {},
     "output_type": "execute_result"
    }
   ],
   "source": [
    " # Quantile at alpha = 0.975\n",
    "# This is useful when calculating 95% confidence interval.\n",
    "alpha = 0.975\n",
    "st.norm.ppf(alpha, loc = mu , scale = sigma)"
   ]
  },
  {
   "cell_type": "code",
   "execution_count": 11,
   "id": "35e81315-02f6-4a89-b76b-411e351729d9",
   "metadata": {},
   "outputs": [
    {
     "name": "stdout",
     "output_type": "stream",
     "text": [
      "Degree of Freedom =  100000, Quantile =   1.644869\n"
     ]
    }
   ],
   "source": [
    "# Quantiles at alpha = 0.95 with changing degree of freedom.\n",
    "alpha=0.95\n",
    "for df in [10,50,100,2000,100000]:\n",
    "    val = st.t.ppf(alpha,df)\n",
    "    print( 'Degree of Freedom = %7d, Quantile = %10f' %(df,val))\n"
   ]
  },
  {
   "cell_type": "code",
   "execution_count": 13,
   "id": "b003c598-e02a-4af5-be89-c8c6816b1330",
   "metadata": {},
   "outputs": [
    {
     "name": "stdout",
     "output_type": "stream",
     "text": [
      "Degree of Freedom =      10, Quantile =   2.228139\n",
      "Degree of Freedom =      50, Quantile =   2.008559\n",
      "Degree of Freedom =     100, Quantile =   1.983972\n",
      "Degree of Freedom =    2000, Quantile =   1.961151\n",
      "Degree of Freedom =  100000, Quantile =   1.959988\n"
     ]
    }
   ],
   "source": [
    " # Quantiles at alpha = 0.975 with changing degree of freedom.\n",
    "alpha=0.95\n",
    "alpha=0.975\n",
    "for df in [10,50,100,2000,100000]:\n",
    "    val = st.t.ppf(alpha,df)\n",
    "    print( 'Degree of Freedom = %7d, Quantile = %10f' %(df,val))\n"
   ]
  },
  {
   "cell_type": "code",
   "execution_count": null,
   "id": "0a8c9c24-18b3-4445-81f3-703b6e792207",
   "metadata": {},
   "outputs": [],
   "source": []
  }
 ],
 "metadata": {
  "kernelspec": {
   "display_name": "Python 3 (ipykernel)",
   "language": "python",
   "name": "python3"
  },
  "language_info": {
   "codemirror_mode": {
    "name": "ipython",
    "version": 3
   },
   "file_extension": ".py",
   "mimetype": "text/x-python",
   "name": "python",
   "nbconvert_exporter": "python",
   "pygments_lexer": "ipython3",
   "version": "3.12.4"
  }
 },
 "nbformat": 4,
 "nbformat_minor": 5
}
