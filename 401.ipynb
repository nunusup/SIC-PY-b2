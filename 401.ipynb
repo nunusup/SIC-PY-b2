{
 "cells": [
  {
   "cell_type": "code",
   "execution_count": 1,
   "id": "31dc8bc5-cc08-4626-9eac-598edc1f24be",
   "metadata": {},
   "outputs": [],
   "source": [
    "import numpy as np\n",
    "import pandas as pd\n",
    "import matplotlib.pyplot as plt\n",
    "import os\n",
    "from sklearn.cluster import KMeans\n",
    "from sklearn.datasets import make_blobs\n",
    "%matplotlib inline"
   ]
  },
  {
   "cell_type": "code",
   "execution_count": 5,
   "id": "2f2ade0a-9dd5-4df9-a8c8-af7466694b1c",
   "metadata": {},
   "outputs": [
    {
     "ename": "SyntaxError",
     "evalue": "invalid character '␣' (U+2423) (849548064.py, line 2)",
     "output_type": "error",
     "traceback": [
      "\u001b[1;36m  Cell \u001b[1;32mIn[5], line 2\u001b[1;36m\u001b[0m\n\u001b[1;33m    X1, label1 = make_blobs(n_samples=100, n_features=2, centers=2, cluster_std =␣\u001b[0m\n\u001b[1;37m                                                                                 ^\u001b[0m\n\u001b[1;31mSyntaxError\u001b[0m\u001b[1;31m:\u001b[0m invalid character '␣' (U+2423)\n"
     ]
    }
   ],
   "source": [
    "# Dataset #1.\n",
    "X1, label1 = make_blobs(n_samples=100, n_features=2, centers=2, cluster_std =␣\n",
    "↪5, random_state=123)\n",
    "plt.scatter(X1[:,0],X1[:,1], c= label1, alpha=0.7 )\n",
    "plt.title('Dataset #1 : Original')\n",
    "plt.show()"
   ]
  },
  {
   "cell_type": "code",
   "execution_count": null,
   "id": "a681ff95-cdd3-4744-96af-090c62d64128",
   "metadata": {},
   "outputs": [],
   "source": []
  }
 ],
 "metadata": {
  "kernelspec": {
   "display_name": "Python 3 (ipykernel)",
   "language": "python",
   "name": "python3"
  },
  "language_info": {
   "codemirror_mode": {
    "name": "ipython",
    "version": 3
   },
   "file_extension": ".py",
   "mimetype": "text/x-python",
   "name": "python",
   "nbconvert_exporter": "python",
   "pygments_lexer": "ipython3",
   "version": "3.12.4"
  }
 },
 "nbformat": 4,
 "nbformat_minor": 5
}
